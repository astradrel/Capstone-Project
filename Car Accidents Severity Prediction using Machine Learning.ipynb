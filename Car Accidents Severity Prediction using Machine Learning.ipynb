{
 "cells": [
  {
   "cell_type": "markdown",
   "metadata": {},
   "source": [
    "# Car Accidents Severity Prediction using Machine Learning\n",
    "\n",
    "\n"
   ]
  },
  {
   "cell_type": "markdown",
   "metadata": {},
   "source": [
    "#### By: Ahmad Khairi Bin Ahmad Khir"
   ]
  },
  {
   "cell_type": "markdown",
   "metadata": {},
   "source": [
    "### Business Understanding"
   ]
  },
  {
   "cell_type": "markdown",
   "metadata": {},
   "source": [
    "Multiple of factors and conditions can influence the severity of a car accident. With the help of an algorithm, the prediction of severity of an accident can be done with the help of variable such as weather condition, road condition, light condition and so on. Using this data, a model can be construct to predict the severity of an accident bound to happen based on the past historical dataset that contains the attribute that factors to an accident. Thus, in order to reduce the frequency of accidents in a certain area, machine learning can be apply to these problem which will helps the local government or GPS service provider to determine which sort of conditions and factors may contributed to a car accidents and exercise necessary action to minimize the probability of a road user from being involved in a car accidents."
   ]
  },
  {
   "cell_type": "markdown",
   "metadata": {},
   "source": [
    "### Data Understanding"
   ]
  },
  {
   "cell_type": "markdown",
   "metadata": {},
   "source": [
    "In this project, we used the datasets from the Seattle SDOT Traffic Management Division which titled Collisions – All years. We cleaned the datasets by using the ‘SEVERITYCODE’ column as our target variable with degree of 0 to 5 in terms of severity. The predictor variables or features used in this project are the ‘JUNCTIONTYPE’, ‘WEATHER’, ‘ROADCOND’, ‘LIGHTCOND’ and ‘SPEEDING’. The features which of originally datatype object were converted into datatype numerical for analysis and also the dataset were balanced which the disparity between the severity categories may resulted in inaccurate prediction by the model."
   ]
  },
  {
   "cell_type": "code",
   "execution_count": null,
   "metadata": {},
   "outputs": [],
   "source": []
  }
 ],
 "metadata": {
  "kernelspec": {
   "display_name": "Python 3",
   "language": "python",
   "name": "python3"
  },
  "language_info": {
   "codemirror_mode": {
    "name": "ipython",
    "version": 3
   },
   "file_extension": ".py",
   "mimetype": "text/x-python",
   "name": "python",
   "nbconvert_exporter": "python",
   "pygments_lexer": "ipython3",
   "version": "3.8.3"
  }
 },
 "nbformat": 4,
 "nbformat_minor": 4
}
