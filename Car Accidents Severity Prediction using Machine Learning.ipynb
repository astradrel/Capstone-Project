{
 "cells": [
  {
   "cell_type": "markdown",
   "metadata": {},
   "source": [
    "# Predicting the Severity of Car Accidents using Predictive Model\n",
    "\n",
    "\n"
   ]
  },
  {
   "cell_type": "markdown",
   "metadata": {},
   "source": [
    "### IBM Applied Data Science Capstone Project\n",
    "#### By: Ahmad Khairi Bin Ahmad Khir"
   ]
  },
  {
   "cell_type": "code",
   "execution_count": 3,
   "metadata": {},
   "outputs": [],
   "source": [
    "import itertools\n",
    "import numpy as np\n",
    "import matplotlib.pyplot as plt\n",
    "from matplotlib.ticker import NullFormatter\n",
    "import pandas as pd\n",
    "import numpy as np\n",
    "import matplotlib.ticker as ticker\n",
    "from sklearn import preprocessing\n",
    "from sklearn.metrics import jaccard_score\n",
    "from sklearn.metrics import f1_score\n",
    "from sklearn.metrics import log_loss\n",
    "%matplotlib inline"
   ]
  },
  {
   "cell_type": "code",
   "execution_count": 4,
   "metadata": {},
   "outputs": [
    {
     "name": "stderr",
     "output_type": "stream",
     "text": [
      "C:\\Users\\USER\\anaconda3\\lib\\site-packages\\IPython\\core\\interactiveshell.py:3071: DtypeWarning: Columns (33) have mixed types.Specify dtype option on import or set low_memory=False.\n",
      "  has_raised = await self.run_ast_nodes(code_ast.body, cell_name,\n"
     ]
    }
   ],
   "source": [
    "dataurl = 'https://raw.githubusercontent.com/astradrel/Capstone-Project/main/Data-Collisions.csv'\n",
    "df = pd.read_csv(dataurl)"
   ]
  },
  {
   "cell_type": "code",
   "execution_count": 3,
   "metadata": {},
   "outputs": [
    {
     "data": {
      "text/plain": [
       "(194673, 38)"
      ]
     },
     "execution_count": 3,
     "metadata": {},
     "output_type": "execute_result"
    }
   ],
   "source": [
    "df.shape"
   ]
  },
  {
   "cell_type": "code",
   "execution_count": 5,
   "metadata": {},
   "outputs": [
    {
     "data": {
      "text/html": [
       "<div>\n",
       "<style scoped>\n",
       "    .dataframe tbody tr th:only-of-type {\n",
       "        vertical-align: middle;\n",
       "    }\n",
       "\n",
       "    .dataframe tbody tr th {\n",
       "        vertical-align: top;\n",
       "    }\n",
       "\n",
       "    .dataframe thead th {\n",
       "        text-align: right;\n",
       "    }\n",
       "</style>\n",
       "<table border=\"1\" class=\"dataframe\">\n",
       "  <thead>\n",
       "    <tr style=\"text-align: right;\">\n",
       "      <th></th>\n",
       "      <th>JUNCTIONTYPE</th>\n",
       "      <th>ROADCOND</th>\n",
       "      <th>WEATHER</th>\n",
       "      <th>LIGHTCOND</th>\n",
       "      <th>SPEEDING</th>\n",
       "      <th>UNDERINFL</th>\n",
       "      <th>OBJECTID</th>\n",
       "      <th>SEVERITYCODE</th>\n",
       "    </tr>\n",
       "  </thead>\n",
       "  <tbody>\n",
       "    <tr>\n",
       "      <th>0</th>\n",
       "      <td>At Intersection (intersection related)</td>\n",
       "      <td>Wet</td>\n",
       "      <td>Overcast</td>\n",
       "      <td>Daylight</td>\n",
       "      <td>NaN</td>\n",
       "      <td>N</td>\n",
       "      <td>1</td>\n",
       "      <td>2</td>\n",
       "    </tr>\n",
       "    <tr>\n",
       "      <th>1</th>\n",
       "      <td>Mid-Block (not related to intersection)</td>\n",
       "      <td>Wet</td>\n",
       "      <td>Raining</td>\n",
       "      <td>Dark - Street Lights On</td>\n",
       "      <td>NaN</td>\n",
       "      <td>0</td>\n",
       "      <td>2</td>\n",
       "      <td>1</td>\n",
       "    </tr>\n",
       "    <tr>\n",
       "      <th>2</th>\n",
       "      <td>Mid-Block (not related to intersection)</td>\n",
       "      <td>Dry</td>\n",
       "      <td>Overcast</td>\n",
       "      <td>Daylight</td>\n",
       "      <td>NaN</td>\n",
       "      <td>0</td>\n",
       "      <td>3</td>\n",
       "      <td>1</td>\n",
       "    </tr>\n",
       "    <tr>\n",
       "      <th>3</th>\n",
       "      <td>Mid-Block (not related to intersection)</td>\n",
       "      <td>Dry</td>\n",
       "      <td>Clear</td>\n",
       "      <td>Daylight</td>\n",
       "      <td>NaN</td>\n",
       "      <td>N</td>\n",
       "      <td>4</td>\n",
       "      <td>1</td>\n",
       "    </tr>\n",
       "    <tr>\n",
       "      <th>4</th>\n",
       "      <td>At Intersection (intersection related)</td>\n",
       "      <td>Wet</td>\n",
       "      <td>Raining</td>\n",
       "      <td>Daylight</td>\n",
       "      <td>NaN</td>\n",
       "      <td>0</td>\n",
       "      <td>5</td>\n",
       "      <td>2</td>\n",
       "    </tr>\n",
       "  </tbody>\n",
       "</table>\n",
       "</div>"
      ],
      "text/plain": [
       "                              JUNCTIONTYPE ROADCOND   WEATHER  \\\n",
       "0   At Intersection (intersection related)      Wet  Overcast   \n",
       "1  Mid-Block (not related to intersection)      Wet   Raining   \n",
       "2  Mid-Block (not related to intersection)      Dry  Overcast   \n",
       "3  Mid-Block (not related to intersection)      Dry     Clear   \n",
       "4   At Intersection (intersection related)      Wet   Raining   \n",
       "\n",
       "                 LIGHTCOND SPEEDING UNDERINFL  OBJECTID  SEVERITYCODE  \n",
       "0                 Daylight      NaN         N         1             2  \n",
       "1  Dark - Street Lights On      NaN         0         2             1  \n",
       "2                 Daylight      NaN         0         3             1  \n",
       "3                 Daylight      NaN         N         4             1  \n",
       "4                 Daylight      NaN         0         5             2  "
      ]
     },
     "execution_count": 5,
     "metadata": {},
     "output_type": "execute_result"
    }
   ],
   "source": [
    "df_accident = df[['JUNCTIONTYPE', 'ROADCOND', 'WEATHER', 'LIGHTCOND', 'SPEEDING','UNDERINFL','OBJECTID','SEVERITYCODE',]]\n",
    "df_accident.head()"
   ]
  },
  {
   "cell_type": "code",
   "execution_count": 6,
   "metadata": {
    "scrolled": true
   },
   "outputs": [
    {
     "data": {
      "text/plain": [
       "JUNCTIONTYPE  SEVERITYCODE\n",
       "Driveway      1               0.696936\n",
       "              2               0.303064\n",
       "Intersection  1               0.571748\n",
       "              2               0.428252\n",
       "Mid-Block     1               0.762847\n",
       "              2               0.237153\n",
       "Ramp          1               0.674699\n",
       "              2               0.325301\n",
       "Name: SEVERITYCODE, dtype: float64"
      ]
     },
     "execution_count": 6,
     "metadata": {},
     "output_type": "execute_result"
    }
   ],
   "source": [
    "# Cleaning the column JUNCTIONTYPE\n",
    "\n",
    "df_accident = df_accident[df_accident['JUNCTIONTYPE'].notna()]\n",
    "\n",
    "df_accident = df_accident[df_accident['JUNCTIONTYPE'] != 'Unknown']\n",
    "\n",
    "df_accident['JUNCTIONTYPE'].replace({\"Mid-Block (not related to intersection)\": \"Mid-Block\", \n",
    "                                     \"Mid-Block (but intersection related)\": \"Mid-Block\",\n",
    "                                     \"At Intersection (but not related to intersection)\": \"Intersection\",\n",
    "                                     \"At Intersection (intersection related)\": \"Intersection\",\n",
    "                                    \"Driveway Junction\" : \"Driveway\",\n",
    "                                    \"Ramp Junction\" : \"Ramp\"}, inplace=True)\n",
    "\n",
    "df_accident.groupby(['JUNCTIONTYPE'])['SEVERITYCODE'].value_counts(normalize=True)"
   ]
  },
  {
   "cell_type": "code",
   "execution_count": 7,
   "metadata": {
    "scrolled": true
   },
   "outputs": [
    {
     "data": {
      "text/plain": [
       "ROADCOND  SEVERITYCODE\n",
       "Dry       1               0.674831\n",
       "          2               0.325169\n",
       "Wet       1               0.671428\n",
       "          2               0.328572\n",
       "Name: SEVERITYCODE, dtype: float64"
      ]
     },
     "execution_count": 7,
     "metadata": {},
     "output_type": "execute_result"
    }
   ],
   "source": [
    "# Cleaning the column ROADCOND\n",
    "\n",
    "df_accident = df_accident[df_accident['ROADCOND'].notna()]\n",
    "\n",
    "df_accident = df_accident[df_accident['ROADCOND'] != 'Unknown']\n",
    "df_accident = df_accident[df_accident['ROADCOND'] != 'Other']\n",
    "\n",
    "df_accident['ROADCOND'].replace({\"Ice\": \"Wet\", \n",
    "                                 \"Snow/Slush\": \"Wet\", \n",
    "                                 \"Standing Water\": \"Wet\", \n",
    "                                 \"Sand/Mud/Dirt\" : \"Dry\",\n",
    "                                \"Oil\" : \"Wet\"}, inplace=True)\n",
    "\n",
    "df_accident.groupby(['ROADCOND'])['SEVERITYCODE'].value_counts(normalize=True)"
   ]
  },
  {
   "cell_type": "code",
   "execution_count": 8,
   "metadata": {},
   "outputs": [
    {
     "data": {
      "text/plain": [
       "WEATHER   SEVERITYCODE\n",
       "Clear     1               0.673215\n",
       "          2               0.326785\n",
       "Other     1               0.786728\n",
       "          2               0.213272\n",
       "Overcast  1               0.679170\n",
       "          2               0.320830\n",
       "Raining   1               0.660492\n",
       "          2               0.339508\n",
       "Name: SEVERITYCODE, dtype: float64"
      ]
     },
     "execution_count": 8,
     "metadata": {},
     "output_type": "execute_result"
    }
   ],
   "source": [
    "# Cleaning the column WEATHER\n",
    "\n",
    "df_accident = df_accident[df_accident['WEATHER'].notna()]\n",
    "\n",
    "df_accident['WEATHER'].replace({\"Unknown\" : \"Other\",\n",
    "                                 \"Snowing\": \"Other\", \n",
    "                                 \"Fog/Smog/Smoke\": \"Other\",\n",
    "                                \"Sleet/Hail/Freezing Rain\" : \"Other\",\n",
    "                                 \"Blowing Sand/Dirt\" : \"Other\",\n",
    "                                \"Severe Crosswind\" : \"Other\",\n",
    "                                \"Partly Cloudy\" : \"Other\"}, inplace=True)\n",
    "\n",
    "df_accident.groupby(['WEATHER'])['SEVERITYCODE'].value_counts(normalize=True)"
   ]
  },
  {
   "cell_type": "code",
   "execution_count": 9,
   "metadata": {},
   "outputs": [
    {
     "data": {
      "text/plain": [
       "LIGHTCOND  SEVERITYCODE\n",
       "Dark       1               0.695855\n",
       "           2               0.304145\n",
       "Dawn       1               0.662776\n",
       "           2               0.337224\n",
       "Daylight   1               0.659440\n",
       "           2               0.340560\n",
       "Dusk       1               0.662513\n",
       "           2               0.337487\n",
       "Other      1               0.891227\n",
       "           2               0.108773\n",
       "Name: SEVERITYCODE, dtype: float64"
      ]
     },
     "execution_count": 9,
     "metadata": {},
     "output_type": "execute_result"
    }
   ],
   "source": [
    "# Cleaning the column LIGHTCOND\n",
    "\n",
    "df_accident = df_accident[df_accident['LIGHTCOND'].notna()]\n",
    "\n",
    "df_accident['LIGHTCOND'].replace({\"Dark - Street Lights On\" : \"Dark\",\n",
    "                                 \"Unknown\": \"Other\", \n",
    "                                 \"Dark - No Street Lights\": \"Dark\",\n",
    "                                \"Dark - Street Lights Off\" : \"Dark\",\n",
    "                                 \"Dark - Unknown Lighting\" : \"Dark\"}, inplace=True)\n",
    "\n",
    "df_accident.groupby(['LIGHTCOND'])['SEVERITYCODE'].value_counts(normalize=True)"
   ]
  },
  {
   "cell_type": "code",
   "execution_count": 10,
   "metadata": {},
   "outputs": [
    {
     "data": {
      "text/plain": [
       "SPEEDING      SEVERITYCODE\n",
       "Non-Speeding  1               0.619006\n",
       "              2               0.380994\n",
       "Speeding      1               0.676858\n",
       "              2               0.323142\n",
       "Name: SEVERITYCODE, dtype: float64"
      ]
     },
     "execution_count": 10,
     "metadata": {},
     "output_type": "execute_result"
    }
   ],
   "source": [
    "# Cleaning the column SPEEDING\n",
    "\n",
    "df_accident['SPEEDING'].fillna('N', inplace=True)\n",
    "df_accident['SPEEDING'].replace({\"Y\" : \"Non-Speeding\", \"N\" : \"Speeding\"}, inplace=True)\n",
    "\n",
    "df_accident.groupby(['SPEEDING'])['SEVERITYCODE'].value_counts(normalize=True)"
   ]
  },
  {
   "cell_type": "code",
   "execution_count": 11,
   "metadata": {},
   "outputs": [
    {
     "data": {
      "text/plain": [
       "UNDERINFL            SEVERITYCODE\n",
       "Not Under Influence  1               0.677412\n",
       "                     2               0.322588\n",
       "Under Influence      1               0.607968\n",
       "                     2               0.392032\n",
       "Name: SEVERITYCODE, dtype: float64"
      ]
     },
     "execution_count": 11,
     "metadata": {},
     "output_type": "execute_result"
    }
   ],
   "source": [
    "# Cleaning the column UNDERINFL\n",
    "\n",
    "df_accident['UNDERINFL'].replace({\"0\" : \"Not Under Influence\", \"1\": \"Under Influence\"}, inplace=True)\n",
    "df_accident['UNDERINFL'].replace({\"N\" : \"Not Under Influence\", \"Y\": \"Under Influence\"}, inplace=True)\n",
    "\n",
    "df_accident.groupby(['UNDERINFL'])['SEVERITYCODE'].value_counts(normalize=True)"
   ]
  },
  {
   "cell_type": "code",
   "execution_count": 12,
   "metadata": {},
   "outputs": [],
   "source": [
    "# Resetting the index\n",
    "\n",
    "df_accident.reset_index(inplace=True)\n",
    "df_accident = df_accident.drop(['index'], axis=1)\n",
    "df_accident = df_accident.rename_axis('ID')"
   ]
  },
  {
   "cell_type": "code",
   "execution_count": 13,
   "metadata": {
    "scrolled": true
   },
   "outputs": [
    {
     "data": {
      "text/html": [
       "<div>\n",
       "<style scoped>\n",
       "    .dataframe tbody tr th:only-of-type {\n",
       "        vertical-align: middle;\n",
       "    }\n",
       "\n",
       "    .dataframe tbody tr th {\n",
       "        vertical-align: top;\n",
       "    }\n",
       "\n",
       "    .dataframe thead th {\n",
       "        text-align: right;\n",
       "    }\n",
       "</style>\n",
       "<table border=\"1\" class=\"dataframe\">\n",
       "  <thead>\n",
       "    <tr style=\"text-align: right;\">\n",
       "      <th></th>\n",
       "      <th>JUNCTIONTYPE</th>\n",
       "      <th>ROADCOND</th>\n",
       "      <th>WEATHER</th>\n",
       "      <th>LIGHTCOND</th>\n",
       "      <th>SPEEDING</th>\n",
       "      <th>UNDERINFL</th>\n",
       "      <th>OBJECTID</th>\n",
       "      <th>SEVERITYCODE</th>\n",
       "    </tr>\n",
       "    <tr>\n",
       "      <th>ID</th>\n",
       "      <th></th>\n",
       "      <th></th>\n",
       "      <th></th>\n",
       "      <th></th>\n",
       "      <th></th>\n",
       "      <th></th>\n",
       "      <th></th>\n",
       "      <th></th>\n",
       "    </tr>\n",
       "  </thead>\n",
       "  <tbody>\n",
       "    <tr>\n",
       "      <th>0</th>\n",
       "      <td>Intersection</td>\n",
       "      <td>Wet</td>\n",
       "      <td>Overcast</td>\n",
       "      <td>Daylight</td>\n",
       "      <td>Speeding</td>\n",
       "      <td>Not Under Influence</td>\n",
       "      <td>1</td>\n",
       "      <td>2</td>\n",
       "    </tr>\n",
       "    <tr>\n",
       "      <th>1</th>\n",
       "      <td>Mid-Block</td>\n",
       "      <td>Wet</td>\n",
       "      <td>Raining</td>\n",
       "      <td>Dark</td>\n",
       "      <td>Speeding</td>\n",
       "      <td>Not Under Influence</td>\n",
       "      <td>2</td>\n",
       "      <td>1</td>\n",
       "    </tr>\n",
       "    <tr>\n",
       "      <th>2</th>\n",
       "      <td>Mid-Block</td>\n",
       "      <td>Dry</td>\n",
       "      <td>Overcast</td>\n",
       "      <td>Daylight</td>\n",
       "      <td>Speeding</td>\n",
       "      <td>Not Under Influence</td>\n",
       "      <td>3</td>\n",
       "      <td>1</td>\n",
       "    </tr>\n",
       "    <tr>\n",
       "      <th>3</th>\n",
       "      <td>Mid-Block</td>\n",
       "      <td>Dry</td>\n",
       "      <td>Clear</td>\n",
       "      <td>Daylight</td>\n",
       "      <td>Speeding</td>\n",
       "      <td>Not Under Influence</td>\n",
       "      <td>4</td>\n",
       "      <td>1</td>\n",
       "    </tr>\n",
       "    <tr>\n",
       "      <th>4</th>\n",
       "      <td>Intersection</td>\n",
       "      <td>Wet</td>\n",
       "      <td>Raining</td>\n",
       "      <td>Daylight</td>\n",
       "      <td>Speeding</td>\n",
       "      <td>Not Under Influence</td>\n",
       "      <td>5</td>\n",
       "      <td>2</td>\n",
       "    </tr>\n",
       "  </tbody>\n",
       "</table>\n",
       "</div>"
      ],
      "text/plain": [
       "    JUNCTIONTYPE ROADCOND   WEATHER LIGHTCOND  SPEEDING            UNDERINFL  \\\n",
       "ID                                                                             \n",
       "0   Intersection      Wet  Overcast  Daylight  Speeding  Not Under Influence   \n",
       "1      Mid-Block      Wet   Raining      Dark  Speeding  Not Under Influence   \n",
       "2      Mid-Block      Dry  Overcast  Daylight  Speeding  Not Under Influence   \n",
       "3      Mid-Block      Dry     Clear  Daylight  Speeding  Not Under Influence   \n",
       "4   Intersection      Wet   Raining  Daylight  Speeding  Not Under Influence   \n",
       "\n",
       "    OBJECTID  SEVERITYCODE  \n",
       "ID                          \n",
       "0          1             2  \n",
       "1          2             1  \n",
       "2          3             1  \n",
       "3          4             1  \n",
       "4          5             2  "
      ]
     },
     "execution_count": 13,
     "metadata": {},
     "output_type": "execute_result"
    }
   ],
   "source": [
    "# Display the new cleaned dataset\n",
    "\n",
    "df_accident.head()\n"
   ]
  },
  {
   "cell_type": "code",
   "execution_count": 14,
   "metadata": {},
   "outputs": [
    {
     "data": {
      "text/html": [
       "<div>\n",
       "<style scoped>\n",
       "    .dataframe tbody tr th:only-of-type {\n",
       "        vertical-align: middle;\n",
       "    }\n",
       "\n",
       "    .dataframe tbody tr th {\n",
       "        vertical-align: top;\n",
       "    }\n",
       "\n",
       "    .dataframe thead th {\n",
       "        text-align: right;\n",
       "    }\n",
       "</style>\n",
       "<table border=\"1\" class=\"dataframe\">\n",
       "  <thead>\n",
       "    <tr style=\"text-align: right;\">\n",
       "      <th></th>\n",
       "      <th>Driveway</th>\n",
       "      <th>Intersection</th>\n",
       "      <th>Mid-Block</th>\n",
       "      <th>Ramp</th>\n",
       "      <th>Dry</th>\n",
       "      <th>Wet</th>\n",
       "      <th>Clear</th>\n",
       "      <th>Other</th>\n",
       "      <th>Overcast</th>\n",
       "      <th>Raining</th>\n",
       "      <th>Dark</th>\n",
       "      <th>Dawn</th>\n",
       "      <th>Daylight</th>\n",
       "      <th>Dusk</th>\n",
       "      <th>Other</th>\n",
       "      <th>Non-Speeding</th>\n",
       "      <th>Speeding</th>\n",
       "      <th>Not Under Influence</th>\n",
       "      <th>Under Influence</th>\n",
       "    </tr>\n",
       "    <tr>\n",
       "      <th>ID</th>\n",
       "      <th></th>\n",
       "      <th></th>\n",
       "      <th></th>\n",
       "      <th></th>\n",
       "      <th></th>\n",
       "      <th></th>\n",
       "      <th></th>\n",
       "      <th></th>\n",
       "      <th></th>\n",
       "      <th></th>\n",
       "      <th></th>\n",
       "      <th></th>\n",
       "      <th></th>\n",
       "      <th></th>\n",
       "      <th></th>\n",
       "      <th></th>\n",
       "      <th></th>\n",
       "      <th></th>\n",
       "      <th></th>\n",
       "    </tr>\n",
       "  </thead>\n",
       "  <tbody>\n",
       "    <tr>\n",
       "      <th>0</th>\n",
       "      <td>0</td>\n",
       "      <td>1</td>\n",
       "      <td>0</td>\n",
       "      <td>0</td>\n",
       "      <td>0</td>\n",
       "      <td>1</td>\n",
       "      <td>0</td>\n",
       "      <td>0</td>\n",
       "      <td>1</td>\n",
       "      <td>0</td>\n",
       "      <td>0</td>\n",
       "      <td>0</td>\n",
       "      <td>1</td>\n",
       "      <td>0</td>\n",
       "      <td>0</td>\n",
       "      <td>0</td>\n",
       "      <td>1</td>\n",
       "      <td>1</td>\n",
       "      <td>0</td>\n",
       "    </tr>\n",
       "    <tr>\n",
       "      <th>1</th>\n",
       "      <td>0</td>\n",
       "      <td>0</td>\n",
       "      <td>1</td>\n",
       "      <td>0</td>\n",
       "      <td>0</td>\n",
       "      <td>1</td>\n",
       "      <td>0</td>\n",
       "      <td>0</td>\n",
       "      <td>0</td>\n",
       "      <td>1</td>\n",
       "      <td>1</td>\n",
       "      <td>0</td>\n",
       "      <td>0</td>\n",
       "      <td>0</td>\n",
       "      <td>0</td>\n",
       "      <td>0</td>\n",
       "      <td>1</td>\n",
       "      <td>1</td>\n",
       "      <td>0</td>\n",
       "    </tr>\n",
       "    <tr>\n",
       "      <th>2</th>\n",
       "      <td>0</td>\n",
       "      <td>0</td>\n",
       "      <td>1</td>\n",
       "      <td>0</td>\n",
       "      <td>1</td>\n",
       "      <td>0</td>\n",
       "      <td>0</td>\n",
       "      <td>0</td>\n",
       "      <td>1</td>\n",
       "      <td>0</td>\n",
       "      <td>0</td>\n",
       "      <td>0</td>\n",
       "      <td>1</td>\n",
       "      <td>0</td>\n",
       "      <td>0</td>\n",
       "      <td>0</td>\n",
       "      <td>1</td>\n",
       "      <td>1</td>\n",
       "      <td>0</td>\n",
       "    </tr>\n",
       "    <tr>\n",
       "      <th>3</th>\n",
       "      <td>0</td>\n",
       "      <td>0</td>\n",
       "      <td>1</td>\n",
       "      <td>0</td>\n",
       "      <td>1</td>\n",
       "      <td>0</td>\n",
       "      <td>1</td>\n",
       "      <td>0</td>\n",
       "      <td>0</td>\n",
       "      <td>0</td>\n",
       "      <td>0</td>\n",
       "      <td>0</td>\n",
       "      <td>1</td>\n",
       "      <td>0</td>\n",
       "      <td>0</td>\n",
       "      <td>0</td>\n",
       "      <td>1</td>\n",
       "      <td>1</td>\n",
       "      <td>0</td>\n",
       "    </tr>\n",
       "    <tr>\n",
       "      <th>4</th>\n",
       "      <td>0</td>\n",
       "      <td>1</td>\n",
       "      <td>0</td>\n",
       "      <td>0</td>\n",
       "      <td>0</td>\n",
       "      <td>1</td>\n",
       "      <td>0</td>\n",
       "      <td>0</td>\n",
       "      <td>0</td>\n",
       "      <td>1</td>\n",
       "      <td>0</td>\n",
       "      <td>0</td>\n",
       "      <td>1</td>\n",
       "      <td>0</td>\n",
       "      <td>0</td>\n",
       "      <td>0</td>\n",
       "      <td>1</td>\n",
       "      <td>1</td>\n",
       "      <td>0</td>\n",
       "    </tr>\n",
       "  </tbody>\n",
       "</table>\n",
       "</div>"
      ],
      "text/plain": [
       "    Driveway  Intersection  Mid-Block  Ramp  Dry  Wet  Clear  Other  Overcast  \\\n",
       "ID                                                                              \n",
       "0          0             1          0     0    0    1      0      0         1   \n",
       "1          0             0          1     0    0    1      0      0         0   \n",
       "2          0             0          1     0    1    0      0      0         1   \n",
       "3          0             0          1     0    1    0      1      0         0   \n",
       "4          0             1          0     0    0    1      0      0         0   \n",
       "\n",
       "    Raining  Dark  Dawn  Daylight  Dusk  Other  Non-Speeding  Speeding  \\\n",
       "ID                                                                       \n",
       "0         0     0     0         1     0      0             0         1   \n",
       "1         1     1     0         0     0      0             0         1   \n",
       "2         0     0     0         1     0      0             0         1   \n",
       "3         0     0     0         1     0      0             0         1   \n",
       "4         1     0     0         1     0      0             0         1   \n",
       "\n",
       "    Not Under Influence  Under Influence  \n",
       "ID                                        \n",
       "0                     1                0  \n",
       "1                     1                0  \n",
       "2                     1                0  \n",
       "3                     1                0  \n",
       "4                     1                0  "
      ]
     },
     "execution_count": 14,
     "metadata": {},
     "output_type": "execute_result"
    }
   ],
   "source": [
    "# Perform One Hot Encoding to Features Variable\n",
    "\n",
    "Features = pd.concat([pd.get_dummies(df_accident['JUNCTIONTYPE']),pd.get_dummies(df_accident['ROADCOND']),\n",
    "                              pd.get_dummies(df_accident['WEATHER']),pd.get_dummies(df_accident['LIGHTCOND']),\n",
    "                              pd.get_dummies(df_accident['SPEEDING']), pd.get_dummies(df_accident['UNDERINFL'])], axis=1)\n",
    "\n",
    "Features.head()"
   ]
  },
  {
   "cell_type": "code",
   "execution_count": 15,
   "metadata": {},
   "outputs": [],
   "source": [
    "# Assigning Features and Target \n",
    "\n",
    "data_x = Features\n",
    "data_y = df_accident['SEVERITYCODE'].values"
   ]
  },
  {
   "cell_type": "code",
   "execution_count": 16,
   "metadata": {},
   "outputs": [
    {
     "data": {
      "text/plain": [
       "array([[-0.25065638,  1.3307828 , -1.17295332, -0.03018131, -1.57865976,\n",
       "         1.57865976, -1.31606595, -0.13851747,  2.31882982, -0.48493273,\n",
       "        -0.63240904, -0.11913895,  0.73188527, -0.18407938, -0.1289581 ,\n",
       "        -0.23695803,  0.23695803,  0.2348636 , -0.2348636 ],\n",
       "       [-0.25065638, -0.75143742,  0.85254885, -0.03018131, -1.57865976,\n",
       "         1.57865976, -1.31606595, -0.13851747, -0.431252  ,  2.0621417 ,\n",
       "         1.58125506, -0.11913895, -1.36633436, -0.18407938, -0.1289581 ,\n",
       "        -0.23695803,  0.23695803,  0.2348636 , -0.2348636 ],\n",
       "       [-0.25065638, -0.75143742,  0.85254885, -0.03018131,  0.63344872,\n",
       "        -0.63344872, -1.31606595, -0.13851747,  2.31882982, -0.48493273,\n",
       "        -0.63240904, -0.11913895,  0.73188527, -0.18407938, -0.1289581 ,\n",
       "        -0.23695803,  0.23695803,  0.2348636 , -0.2348636 ],\n",
       "       [-0.25065638, -0.75143742,  0.85254885, -0.03018131,  0.63344872,\n",
       "        -0.63344872,  0.75984034, -0.13851747, -0.431252  , -0.48493273,\n",
       "        -0.63240904, -0.11913895,  0.73188527, -0.18407938, -0.1289581 ,\n",
       "        -0.23695803,  0.23695803,  0.2348636 , -0.2348636 ],\n",
       "       [-0.25065638,  1.3307828 , -1.17295332, -0.03018131, -1.57865976,\n",
       "         1.57865976, -1.31606595, -0.13851747, -0.431252  ,  2.0621417 ,\n",
       "        -0.63240904, -0.11913895,  0.73188527, -0.18407938, -0.1289581 ,\n",
       "        -0.23695803,  0.23695803,  0.2348636 , -0.2348636 ]])"
      ]
     },
     "execution_count": 16,
     "metadata": {},
     "output_type": "execute_result"
    }
   ],
   "source": [
    "# Normalizing the Features data\n",
    "\n",
    "data_x = preprocessing.StandardScaler().fit(data_x).transform(data_x)\n",
    "data_x[0:5]\n"
   ]
  },
  {
   "cell_type": "code",
   "execution_count": 17,
   "metadata": {},
   "outputs": [
    {
     "name": "stdout",
     "output_type": "stream",
     "text": [
      "Train set: (85706, 19) (85706,)\n",
      "Test set: (85707, 19) (85707,)\n"
     ]
    }
   ],
   "source": [
    "# Splitting the data into Train/Test set\n",
    "\n",
    "from sklearn.model_selection import train_test_split\n",
    "X_train, X_test, Y_train, Y_test = train_test_split( data_x, data_y, test_size =0.5)\n",
    "\n",
    "\n",
    "       \n",
    "print ('Train set:', X_train.shape,  Y_train.shape)\n",
    "print ('Test set:', X_test.shape,  Y_test.shape)"
   ]
  },
  {
   "cell_type": "code",
   "execution_count": 18,
   "metadata": {},
   "outputs": [],
   "source": [
    "# Initialize Accuracy List \n",
    "\n",
    "ListJ = []\n",
    "ListF1 = []\n",
    "ListLL = ['NA', 'NA', 'NA']"
   ]
  },
  {
   "cell_type": "code",
   "execution_count": 41,
   "metadata": {},
   "outputs": [
    {
     "name": "stdout",
     "output_type": "stream",
     "text": [
      "The mean accuracy for each iteration of K of 10 :\n",
      " [0.59043019 0.64014608 0.59566897 0.60168948 0.59762913 0.64578156\n",
      " 0.64090448 0.64578156 0.62031106 0.62626157]\n",
      "\n",
      "The best mean accuracy is 0.6457815580991051 with K of 6\n"
     ]
    },
    {
     "data": {
      "image/png": "[encoded data removed]",
      "text/plain": [
       "<Figure size 432x288 with 1 Axes>"
      ]
     },
     "metadata": {
      "needs_background": "light"
     },
     "output_type": "display_data"
    }
   ],
   "source": [
    "# Modelling using K Nearest Neighbours Model\n",
    "\n",
    "from sklearn.neighbors import KNeighborsClassifier\n",
    "from sklearn import metrics\n",
    "\n",
    "Ks = 11\n",
    "mean_acc = np.zeros((Ks-1))\n",
    "std_acc = np.zeros((Ks-1))\n",
    "ConfusionMatrix = [];\n",
    "for n in range(1,Ks):\n",
    "    \n",
    "    KNNModel = KNeighborsClassifier(n_neighbors = n).fit(X_train,Y_train)\n",
    "    Y_hatKNN=KNNModel.predict(X_test)\n",
    "    mean_acc[n-1] = metrics.accuracy_score(Y_test, Y_hatKNN)\n",
    "    std_acc[n-1]=np.std(Y_hatKNN==Y_test)/np.sqrt(Y_hatKNN.shape[0])\n",
    "\n",
    "    \n",
    "print(\"The mean accuracy for each iteration of K of\",Ks-1, \":\\n\",mean_acc) \n",
    "print( \"\\nThe best mean accuracy is\", mean_acc.max(), \"with K of\", mean_acc.argmax()+1)\n",
    "\n",
    "plt.plot(range(1,Ks),mean_acc,'r')\n",
    "plt.fill_between(range(1,Ks),mean_acc - 1 * std_acc,mean_acc + 1 * std_acc, alpha=0.10)\n",
    "plt.legend(('Accuracy ', '+/- 3xstd'))\n",
    "plt.ylabel('Accuracy ')\n",
    "plt.xlabel('Number of Neighbors (K)')\n",
    "plt.tight_layout()\n",
    "plt.show()"
   ]
  },
  {
   "cell_type": "code",
   "execution_count": 55,
   "metadata": {},
   "outputs": [
    {
     "name": "stdout",
     "output_type": "stream",
     "text": [
      "KNN Jaccard index: 0.63\n",
      "KNN F1-score: 0.58\n"
     ]
    }
   ],
   "source": [
    "# Perform Accuracy Evaluation on KNN Model\n",
    "\n",
    "BestKNNModel = KNeighborsClassifier(n_neighbors = mean_acc.argmax()+1).fit(X_train,Y_train)\n",
    "y_hatKNN = BestKNNModel.predict(X_test)\n",
    "KNNJ = jaccard_score(Y_test, y_hatKNN)\n",
    "KNNF1 = f1_score(Y_test, y_hatKNN, average='weighted')\n",
    "\n",
    "ListJ.append(round(KNNJ,2))\n",
    "ListF1.append(round(KNNF1,2))\n",
    "\n",
    "\n",
    "print(\"KNN Jaccard index: %.2f\" % KNNJ)\n",
    "print(\"KNN F1-score: %.2f\" % KNNF1)"
   ]
  },
  {
   "cell_type": "code",
   "execution_count": 22,
   "metadata": {},
   "outputs": [
    {
     "name": "stdout",
     "output_type": "stream",
     "text": [
      "Best accuracy of the Decision Tree is  0.6737489353261694 with a max depth of 4\n"
     ]
    }
   ],
   "source": [
    "# Modelling using Decision Tree\n",
    "\n",
    "from sklearn.tree import DecisionTreeClassifier\n",
    "\n",
    "n_max_depth = 15\n",
    "best_max_depth = 0\n",
    "lists = [[],[]]\n",
    "\n",
    "for m in range(3, n_max_depth):\n",
    "    DTModel = DecisionTreeClassifier(criterion=\"entropy\", max_depth = m)\n",
    "    DTModel.fit(X_train, Y_train)\n",
    "    y_hatDT = DTModel.predict(X_test)\n",
    "\n",
    "    from sklearn import metrics\n",
    "    import matplotlib.pyplot as plt\n",
    "    acc = metrics.accuracy_score(Y_test, y_hatDT)\n",
    "    \n",
    "    lists[0].append(acc)\n",
    "    lists[1].append(m)\n",
    "    if acc== max(lists[0]):\n",
    "        best_acc = acc\n",
    "        best_max_depth = m\n",
    "\n",
    "print(\"Best accuracy of the Decision Tree is \", best_acc, \"with a max depth of\", best_max_depth)"
   ]
  },
  {
   "cell_type": "code",
   "execution_count": 20,
   "metadata": {},
   "outputs": [
    {
     "name": "stdout",
     "output_type": "stream",
     "text": [
      "DT Jaccard index: 0.67\n",
      "DT F1-score: 0.55\n"
     ]
    }
   ],
   "source": [
    "# Perform Accuracy Evaluation on DT Model \n",
    "\n",
    "BestDTModel = DecisionTreeClassifier(criterion=\"entropy\", max_depth = best_max_depth).fit(X_train, Y_train)\n",
    "y_hatDT = BestDTModel.predict(X_test)\n",
    "DTJ = jaccard_score(Y_test, y_hatDT)\n",
    "DTF1 = f1_score(Y_test, y_hatDT, average='weighted')\n",
    "\n",
    "ListJ.append(round(DTJ,2))\n",
    "ListF1.append(round(DTF1,2))\n",
    "\n",
    "\n",
    "print(\"DT Jaccard index: %.2f\" % DTJ)\n",
    "print(\"DT F1-score: %.2f\" % DTF1)"
   ]
  },
  {
   "cell_type": "code",
   "execution_count": 43,
   "metadata": {},
   "outputs": [],
   "source": [
    "# Modelling using SVM Model\n",
    "\n",
    "from sklearn import svm\n",
    "from sklearn.metrics import classification_report, confusion_matrix\n",
    "import itertools\n",
    "\n",
    "SVMModel = svm.SVC().fit(X_train, Y_train)\n",
    "y_hatSVM = SVMModel.predict(X_test)"
   ]
  },
  {
   "cell_type": "code",
   "execution_count": 60,
   "metadata": {},
   "outputs": [
    {
     "name": "stdout",
     "output_type": "stream",
     "text": [
      "SVM Jaccard index: 0.67\n",
      "SVM F1-score: 0.55\n"
     ]
    }
   ],
   "source": [
    "# Perform Accuracy Evaluation on SVM Model \n",
    "\n",
    "SVMJ = jaccard_score(Y_test, y_hatSVM)\n",
    "SVMF1 = f1_score(Y_test, y_hatSVM, average='weighted')\n",
    "\n",
    "ListJ.append(round(SVMJ,2))\n",
    "ListF1.append(round(SVMF1,2))\n",
    "\n",
    "print(\"SVM Jaccard index: %.2f\" % SVMJ)\n",
    "print(\"SVM F1-score: %.2f\" % SVMF1)"
   ]
  },
  {
   "cell_type": "code",
   "execution_count": 57,
   "metadata": {},
   "outputs": [],
   "source": [
    "# Modelling using LR Model\n",
    "\n",
    "from sklearn.linear_model import LogisticRegression\n",
    "from sklearn.metrics import confusion_matrix\n",
    "\n",
    "LRModel = LogisticRegression(C=0.01, solver='liblinear').fit(X_train,Y_train)\n",
    "y_hatLR = LRModel.predict(X_test)"
   ]
  },
  {
   "cell_type": "code",
   "execution_count": 62,
   "metadata": {},
   "outputs": [
    {
     "name": "stdout",
     "output_type": "stream",
     "text": [
      "LR Jaccard index: 0.67\n",
      "LR F1-score: 0.56\n",
      "LR LogLoss: 0.61\n"
     ]
    }
   ],
   "source": [
    "# Perform Accuracy Evaluation on LR Model \n",
    "\n",
    "y_hatLR = LRModel.predict(X_test)\n",
    "y_hatprobaLR = LRModel.predict_proba(X_test)\n",
    "LRJ = jaccard_score(Y_test, y_hatLR)\n",
    "LRF1 = f1_score(Y_test, y_hatLR, average='weighted')\n",
    "LRLL = log_loss(Y_test, y_hatprobaLR)\n",
    "\n",
    "ListJ.append(round(LRJ,2))\n",
    "ListF1.append(round(LRF1,2))\n",
    "ListLL.append(round(LRLL,2))\n",
    "\n",
    "print(\"LR Jaccard index: %.2f\" % LRJ)\n",
    "print(\"LR F1-score: %.2f\" % LRF1 )\n",
    "print(\"LR LogLoss: %.2f\" % LRLL )\n"
   ]
  },
  {
   "cell_type": "code",
   "execution_count": 64,
   "metadata": {},
   "outputs": [
    {
     "data": {
      "text/html": [
       "<div>\n",
       "<style scoped>\n",
       "    .dataframe tbody tr th:only-of-type {\n",
       "        vertical-align: middle;\n",
       "    }\n",
       "\n",
       "    .dataframe tbody tr th {\n",
       "        vertical-align: top;\n",
       "    }\n",
       "\n",
       "    .dataframe thead th {\n",
       "        text-align: right;\n",
       "    }\n",
       "</style>\n",
       "<table border=\"1\" class=\"dataframe\">\n",
       "  <thead>\n",
       "    <tr style=\"text-align: right;\">\n",
       "      <th>Algorithm</th>\n",
       "      <th>Jaccard</th>\n",
       "      <th>F1-score</th>\n",
       "      <th>LogLoss</th>\n",
       "    </tr>\n",
       "  </thead>\n",
       "  <tbody>\n",
       "    <tr>\n",
       "      <th>KNN</th>\n",
       "      <td>0.63</td>\n",
       "      <td>0.58</td>\n",
       "      <td>NA</td>\n",
       "    </tr>\n",
       "    <tr>\n",
       "      <th>Decision Tree</th>\n",
       "      <td>0.67</td>\n",
       "      <td>0.55</td>\n",
       "      <td>NA</td>\n",
       "    </tr>\n",
       "    <tr>\n",
       "      <th>SVM</th>\n",
       "      <td>0.67</td>\n",
       "      <td>0.55</td>\n",
       "      <td>NA</td>\n",
       "    </tr>\n",
       "    <tr>\n",
       "      <th>Logistic Regression</th>\n",
       "      <td>0.67</td>\n",
       "      <td>0.56</td>\n",
       "      <td>0.61</td>\n",
       "    </tr>\n",
       "  </tbody>\n",
       "</table>\n",
       "</div>"
      ],
      "text/plain": [
       "Algorithm            Jaccard  F1-score LogLoss\n",
       "KNN                     0.63      0.58      NA\n",
       "Decision Tree           0.67      0.55      NA\n",
       "SVM                     0.67      0.55      NA\n",
       "Logistic Regression     0.67      0.56    0.61"
      ]
     },
     "execution_count": 64,
     "metadata": {},
     "output_type": "execute_result"
    }
   ],
   "source": [
    "# Tabulate the accuracy of each model\n",
    "\n",
    "df_accuracy = pd.DataFrame(ListJ, index=['KNN','Decision Tree','SVM','Logistic Regression'])\n",
    "df_accuracy.columns = ['Jaccard']\n",
    "df_accuracy.insert(loc=1, column='F1-score', value=ListF1)\n",
    "df_accuracy.insert(loc=2, column='LogLoss', value=ListLL)\n",
    "df_accuracy.columns.name = 'Algorithm'\n",
    "df_accuracy"
   ]
  }
 ],
 "metadata": {
  "kernelspec": {
   "display_name": "Python 3",
   "language": "python",
   "name": "python3"
  },
  "language_info": {
   "codemirror_mode": {
    "name": "ipython",
    "version": 3
   },
   "file_extension": ".py",
   "mimetype": "text/x-python",
   "name": "python",
   "nbconvert_exporter": "python",
   "pygments_lexer": "ipython3",
   "version": "3.8.3"
  }
 },
 "nbformat": 4,
 "nbformat_minor": 4
}
